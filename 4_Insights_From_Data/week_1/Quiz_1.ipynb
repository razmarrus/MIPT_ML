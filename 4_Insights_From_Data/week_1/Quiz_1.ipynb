{
 "cells": [
  {
   "cell_type": "code",
   "execution_count": 1,
   "id": "7693a663",
   "metadata": {},
   "outputs": [],
   "source": [
    "from statsmodels.stats.weightstats import _zconfint_generic, _tconfint_generic\n",
    "import pandas as pd\n",
    "import statsmodels.stats.api as sms\n",
    "import numpy as np, scipy.stats as st\n",
    "from statsmodels.stats.proportion import samplesize_confint_proportion"
   ]
  },
  {
   "cell_type": "code",
   "execution_count": 2,
   "id": "c41d1bbe",
   "metadata": {},
   "outputs": [],
   "source": [
    "df = pd.read_csv('water.txt', sep=\"\\t\", header=0)#, names=[\"location\", \"town\", \"mortality\",\"hardness\"])\n",
    "df[\"mortality\"] = pd.to_numeric(df[\"mortality\"], downcast='float')\n",
    "df[\"hardness\"] = pd.to_numeric(df[\"hardness\"], downcast='float')\n",
    "#data.columns = [\"location\", \"town\", \"mortality\",\"hardness\"]"
   ]
  },
  {
   "cell_type": "code",
   "execution_count": 3,
   "id": "4a666ad6",
   "metadata": {},
   "outputs": [
    {
     "name": "stdout",
     "output_type": "stream",
     "text": [
      "<class 'pandas.core.frame.DataFrame'>\n",
      "RangeIndex: 61 entries, 0 to 60\n",
      "Data columns (total 4 columns):\n",
      " #   Column     Non-Null Count  Dtype  \n",
      "---  ------     --------------  -----  \n",
      " 0   location   61 non-null     object \n",
      " 1   town       61 non-null     object \n",
      " 2   mortality  61 non-null     float32\n",
      " 3   hardness   61 non-null     float32\n",
      "dtypes: float32(2), object(2)\n",
      "memory usage: 1.6+ KB\n"
     ]
    }
   ],
   "source": [
    "df.info()"
   ]
  },
  {
   "cell_type": "code",
   "execution_count": 4,
   "id": "8d2fb53e",
   "metadata": {},
   "outputs": [
    {
     "data": {
      "text/html": [
       "<div>\n",
       "<style scoped>\n",
       "    .dataframe tbody tr th:only-of-type {\n",
       "        vertical-align: middle;\n",
       "    }\n",
       "\n",
       "    .dataframe tbody tr th {\n",
       "        vertical-align: top;\n",
       "    }\n",
       "\n",
       "    .dataframe thead th {\n",
       "        text-align: right;\n",
       "    }\n",
       "</style>\n",
       "<table border=\"1\" class=\"dataframe\">\n",
       "  <thead>\n",
       "    <tr style=\"text-align: right;\">\n",
       "      <th></th>\n",
       "      <th>location</th>\n",
       "      <th>town</th>\n",
       "      <th>mortality</th>\n",
       "      <th>hardness</th>\n",
       "    </tr>\n",
       "  </thead>\n",
       "  <tbody>\n",
       "    <tr>\n",
       "      <th>0</th>\n",
       "      <td>South</td>\n",
       "      <td>Bath</td>\n",
       "      <td>1247.0</td>\n",
       "      <td>105.0</td>\n",
       "    </tr>\n",
       "    <tr>\n",
       "      <th>1</th>\n",
       "      <td>North</td>\n",
       "      <td>Birkenhead</td>\n",
       "      <td>1668.0</td>\n",
       "      <td>17.0</td>\n",
       "    </tr>\n",
       "    <tr>\n",
       "      <th>2</th>\n",
       "      <td>South</td>\n",
       "      <td>Birmingham</td>\n",
       "      <td>1466.0</td>\n",
       "      <td>5.0</td>\n",
       "    </tr>\n",
       "    <tr>\n",
       "      <th>3</th>\n",
       "      <td>North</td>\n",
       "      <td>Blackburn</td>\n",
       "      <td>1800.0</td>\n",
       "      <td>14.0</td>\n",
       "    </tr>\n",
       "    <tr>\n",
       "      <th>4</th>\n",
       "      <td>North</td>\n",
       "      <td>Blackpool</td>\n",
       "      <td>1609.0</td>\n",
       "      <td>18.0</td>\n",
       "    </tr>\n",
       "  </tbody>\n",
       "</table>\n",
       "</div>"
      ],
      "text/plain": [
       "  location        town  mortality  hardness\n",
       "0    South        Bath     1247.0     105.0\n",
       "1    North  Birkenhead     1668.0      17.0\n",
       "2    South  Birmingham     1466.0       5.0\n",
       "3    North   Blackburn     1800.0      14.0\n",
       "4    North   Blackpool     1609.0      18.0"
      ]
     },
     "execution_count": 4,
     "metadata": {},
     "output_type": "execute_result"
    }
   ],
   "source": [
    "df.head()"
   ]
  },
  {
   "cell_type": "markdown",
   "id": "18e33fc4",
   "metadata": {},
   "source": [
    "## Question 2\n",
    "\n",
    "Постройте 95% доверительный интервал для средней годовой смертности в больших городах. Чему равна его **нижняя граница**? Округлите ответ до 4 знаков после десятичной точки.\n",
    "\n",
    "[link to stackoverflow](https://stackoverflow.com/questions/15033511/compute-a-confidence-interval-from-sample-data)"
   ]
  },
  {
   "cell_type": "code",
   "execution_count": 5,
   "id": "f2125ae0",
   "metadata": {},
   "outputs": [
    {
     "data": {
      "text/plain": [
       "array([1247., 1668., 1466., 1800., 1609., 1558., 1807., 1299., 1637.,\n",
       "       1359., 1392., 1755., 1519., 1307., 1254., 1491., 1555., 1428.,\n",
       "       1318., 1260., 1723., 1379., 1742., 1574., 1569., 1096., 1591.,\n",
       "       1402., 1772., 1828., 1704., 1702., 1581., 1309., 1259., 1427.,\n",
       "       1724., 1175., 1486., 1456., 1696., 1236., 1711., 1444., 1591.,\n",
       "       1987., 1495., 1369., 1257., 1587., 1713., 1557., 1640., 1709.,\n",
       "       1625., 1625., 1527., 1627., 1486., 1485., 1378.], dtype=float32)"
      ]
     },
     "execution_count": 5,
     "metadata": {},
     "output_type": "execute_result"
    }
   ],
   "source": [
    "mortality = pd.DataFrame.to_numpy(df[\"mortality\"])\n",
    "mortality"
   ]
  },
  {
   "cell_type": "code",
   "execution_count": 6,
   "id": "9cd314f1",
   "metadata": {},
   "outputs": [
    {
     "data": {
      "text/plain": [
       "187.66876220703125"
      ]
     },
     "execution_count": 6,
     "metadata": {},
     "output_type": "execute_result"
    }
   ],
   "source": [
    "df[\"mortality\"].std(ddof=1)"
   ]
  },
  {
   "cell_type": "markdown",
   "id": "e27a9745",
   "metadata": {},
   "source": [
    "z-интервал - **не столило считать, так как нет дисперсии**"
   ]
  },
  {
   "cell_type": "code",
   "execution_count": 7,
   "id": "6bac2b88",
   "metadata": {},
   "outputs": [
    {
     "data": {
      "text/plain": [
       "(1476.0833412806621, 1572.2117406865511)"
      ]
     },
     "execution_count": 7,
     "metadata": {},
     "output_type": "execute_result"
    }
   ],
   "source": [
    "sms.DescrStatsW(mortality).tconfint_mean()"
   ]
  },
  {
   "cell_type": "code",
   "execution_count": 8,
   "id": "e0e04e06",
   "metadata": {},
   "outputs": [
    {
     "data": {
      "text/plain": [
       "(1477.0525475985103, 1571.2426184171147)"
      ]
     },
     "execution_count": 8,
     "metadata": {},
     "output_type": "execute_result"
    }
   ],
   "source": [
    "st.norm.interval(0.95, loc=np.mean(mortality), scale=st.sem(mortality))"
   ]
  },
  {
   "cell_type": "markdown",
   "id": "0fae23bf",
   "metadata": {},
   "source": [
    "t-интервал - у нас нет дисперсии, используем ее приближение"
   ]
  },
  {
   "cell_type": "code",
   "execution_count": 9,
   "id": "c15e41fe",
   "metadata": {},
   "outputs": [
    {
     "name": "stdout",
     "output_type": "stream",
     "text": [
      "Mortality south 95% interval: (1476.0833812600179, 1572.2117847556071)\n"
     ]
    }
   ],
   "source": [
    "mort_mean_std = df[\"mortality\"].std() / np.sqrt(df[\"mortality\"].shape[0])\n",
    "print('Mortality south 95%% interval: %s' %  str(_tconfint_generic(df[\"mortality\"].mean(), mort_mean_std,\n",
    "                                                                   df[\"mortality\"].shape[0] - 1,\n",
    "                                                                   0.05, 'two-sided')))"
   ]
  },
  {
   "cell_type": "code",
   "execution_count": 10,
   "id": "8491d1d9",
   "metadata": {},
   "outputs": [
    {
     "data": {
      "text/plain": [
       "(1476.0833812600179, 1572.2117847556071)"
      ]
     },
     "execution_count": 10,
     "metadata": {},
     "output_type": "execute_result"
    }
   ],
   "source": [
    "_tconfint_generic(df['mortality'].mean(), \n",
    "                  df['mortality'].std(ddof=1) / np.sqrt(len(df)),  len(df) - 1, 0.05, 'two-sided') "
   ]
  },
  {
   "cell_type": "markdown",
   "id": "60378c76",
   "metadata": {},
   "source": [
    "## Question 3\n",
    "\n",
    "На данных из предыдущего вопроса постройте 95% доверительный интервал для средней годовой смертности по всем **южным городам**. Чему равна его **верхняя граница**? Округлите ответ до 4 знаков после десятичной точки."
   ]
  },
  {
   "cell_type": "code",
   "execution_count": 11,
   "id": "fa2b9ccd",
   "metadata": {},
   "outputs": [],
   "source": [
    "mort_south = pd.DataFrame.to_numpy(df.loc[df[\"location\"] ==  \"South\"][\"mortality\"])\n",
    "mort_north = pd.DataFrame.to_numpy(df.loc[df[\"location\"] ==  \"North\"][\"mortality\"])\n",
    "\n",
    "#df.loc[df[\"location\"] ==  \"South\"][\"mortality\"].std(ddof=1)\n",
    "df_south = df.loc[df[\"location\"] ==  \"South\"][\"mortality\"]\n",
    "df_north = df.loc[df[\"location\"] ==  \"North\"][\"mortality\"]"
   ]
  },
  {
   "cell_type": "code",
   "execution_count": 12,
   "id": "0a1f2649",
   "metadata": {},
   "outputs": [
    {
     "data": {
      "text/plain": [
       "(1322.8909929516128, 1430.7244855640122)"
      ]
     },
     "execution_count": 12,
     "metadata": {},
     "output_type": "execute_result"
    }
   ],
   "source": [
    "st.norm.interval(0.95, loc=np.mean(mort_south), scale=st.sem(mort_south))"
   ]
  },
  {
   "cell_type": "markdown",
   "id": "e7c5fdde",
   "metadata": {},
   "source": [
    "t-интвервал - у нас нет дисперсии"
   ]
  },
  {
   "cell_type": "code",
   "execution_count": 13,
   "id": "c234e65e",
   "metadata": {},
   "outputs": [
    {
     "name": "stdout",
     "output_type": "stream",
     "text": [
      "Mortality south 95% interval: (1320.1517912238, 1433.463687291825)\n"
     ]
    }
   ],
   "source": [
    "mort_mean_south_std = df_south.std() / np.sqrt(df_south.shape[0])\n",
    "print('Mortality south 95%% interval: %s' %  str(_tconfint_generic(df_south.mean(), mort_mean_south_std,\n",
    "                                                                   df_south.shape[0] - 1,\n",
    "                                                                   0.05, 'two-sided')))"
   ]
  },
  {
   "cell_type": "code",
   "execution_count": 14,
   "id": "f4d9d186",
   "metadata": {},
   "outputs": [
    {
     "data": {
      "text/plain": [
       "(1320.1517912238, 1433.463687291825)"
      ]
     },
     "execution_count": 14,
     "metadata": {},
     "output_type": "execute_result"
    }
   ],
   "source": [
    "_tconfint_generic(df[df.location == 'South'].mortality.mean(),     df[df.location == 'South'].mortality.std(ddof=1) / np.sqrt(len(df[df.location == 'South'])), len(df[df.location == 'South']) - 1, 0.05, 'two-sided')"
   ]
  },
  {
   "cell_type": "markdown",
   "id": "56b3b7ad",
   "metadata": {},
   "source": [
    "## Question 4\n",
    "\n",
    "На тех же данных постройте 95% доверительный интервал для средней годовой смертности по всем северным городам. Пересекается ли этот интервал с предыдущим? Как вы думаете, какой из этого можно сделать вывод? "
   ]
  },
  {
   "cell_type": "code",
   "execution_count": 15,
   "id": "c721afbc",
   "metadata": {},
   "outputs": [
    {
     "data": {
      "text/plain": [
       "(1588.2335485578133, 1678.9664026140617)"
      ]
     },
     "execution_count": 15,
     "metadata": {},
     "output_type": "execute_result"
    }
   ],
   "source": [
    "st.norm.interval(0.95, loc=np.mean(mort_north), scale=st.sem(mort_north))"
   ]
  },
  {
   "cell_type": "code",
   "execution_count": 16,
   "id": "a34b8247",
   "metadata": {},
   "outputs": [
    {
     "data": {
      "text/plain": [
       "136.93690490722656"
      ]
     },
     "execution_count": 16,
     "metadata": {},
     "output_type": "execute_result"
    }
   ],
   "source": [
    "df.loc[df[\"location\"] ==  \"North\"][\"mortality\"].std(ddof=1)"
   ]
  },
  {
   "cell_type": "markdown",
   "id": "d0ba7c7f",
   "metadata": {},
   "source": [
    "## Question 5\n",
    "\n",
    "Пересекаются ли 95% доверительные интервалы для средней жёсткости воды в северных и южных городах?"
   ]
  },
  {
   "cell_type": "code",
   "execution_count": 17,
   "id": "426fa0cc",
   "metadata": {},
   "outputs": [
    {
     "data": {
      "text/plain": [
       "(21.422487867791236, 39.377511369269314)"
      ]
     },
     "execution_count": 17,
     "metadata": {},
     "output_type": "execute_result"
    }
   ],
   "source": [
    "_tconfint_generic(df[df.location == 'South'].hardness.mean(), df[df.location == 'South'].hardness.std(ddof=1) / np.sqrt(len(df[df.location == 'South'])), len(df[df.location == 'South']) - 1, 0.05, 'two-sided')\n",
    "_tconfint_generic(df[df.location == 'North'].hardness.mean(), df[df.location == 'North'].hardness.std(ddof=1) / np.sqrt(len(df[df.location == 'North'])), len(df[df.location == 'North']) - 1, 0.05, 'two-sided')"
   ]
  },
  {
   "cell_type": "markdown",
   "id": "823d8e14",
   "metadata": {},
   "source": [
    "## Question 6\n",
    "Вспомним формулу доверительного интервала для среднего нормально распределённой случайной величины с дисперсией $σ2\\sigma^2σ2:$\n",
    "\n",
    "$Xˉn±z1−α2σn\\bar{X}_n\\pm z_{1-\\frac{\\alpha}{2}} \\frac{\\sigma}{\\sqrt{n}}Xˉn​±z1−2α​​n$\n",
    "\n",
    "​σ​\n",
    "\n",
    "При $σ=1\\sigma=1σ=1$ какой нужен объём выборки, чтобы на уровне доверия 95% оценить среднее с точностью ±0.1\\pm0.1±0.1?"
   ]
  },
  {
   "cell_type": "code",
   "execution_count": 18,
   "id": "260bd851",
   "metadata": {},
   "outputs": [
    {
     "ename": "NameError",
     "evalue": "name 'random_sample' is not defined",
     "output_type": "error",
     "traceback": [
      "\u001b[1;31m---------------------------------------------------------------------------\u001b[0m",
      "\u001b[1;31mNameError\u001b[0m                                 Traceback (most recent call last)",
      "\u001b[1;32m<ipython-input-18-cb6bf4d99883>\u001b[0m in \u001b[0;36m<module>\u001b[1;34m\u001b[0m\n\u001b[1;32m----> 1\u001b[1;33m \u001b[0mn_samples\u001b[0m \u001b[1;33m=\u001b[0m \u001b[0mint\u001b[0m\u001b[1;33m(\u001b[0m\u001b[0mnp\u001b[0m\u001b[1;33m.\u001b[0m\u001b[0mceil\u001b[0m\u001b[1;33m(\u001b[0m\u001b[0msamplesize_confint_proportion\u001b[0m\u001b[1;33m(\u001b[0m\u001b[0mrandom_sample\u001b[0m\u001b[1;33m.\u001b[0m\u001b[0mmean\u001b[0m\u001b[1;33m(\u001b[0m\u001b[1;33m)\u001b[0m\u001b[1;33m,\u001b[0m \u001b[1;36m0.01\u001b[0m\u001b[1;33m)\u001b[0m\u001b[1;33m)\u001b[0m\u001b[1;33m)\u001b[0m\u001b[1;33m\u001b[0m\u001b[1;33m\u001b[0m\u001b[0m\n\u001b[0m\u001b[0;32m      2\u001b[0m \u001b[0mn_samples\u001b[0m\u001b[1;33m\u001b[0m\u001b[1;33m\u001b[0m\u001b[0m\n",
      "\u001b[1;31mNameError\u001b[0m: name 'random_sample' is not defined"
     ]
    }
   ],
   "source": [
    "#n_samples = int(np.ceil(samplesize_confint_proportion(random_sample.mean(), 0.01)))\n",
    "#n_samples"
   ]
  },
  {
   "cell_type": "code",
   "execution_count": 19,
   "id": "16fb7cab",
   "metadata": {},
   "outputs": [
    {
     "data": {
      "text/plain": [
       "385.0"
      ]
     },
     "execution_count": 19,
     "metadata": {},
     "output_type": "execute_result"
    }
   ],
   "source": [
    "from scipy import stats\n",
    "np.ceil((stats.norm.ppf(1-0.05/2) / 0.1)**2)"
   ]
  }
 ],
 "metadata": {
  "kernelspec": {
   "display_name": "Python 3",
   "language": "python",
   "name": "python3"
  },
  "language_info": {
   "codemirror_mode": {
    "name": "ipython",
    "version": 3
   },
   "file_extension": ".py",
   "mimetype": "text/x-python",
   "name": "python",
   "nbconvert_exporter": "python",
   "pygments_lexer": "ipython3",
   "version": "3.8.8"
  }
 },
 "nbformat": 4,
 "nbformat_minor": 5
}
