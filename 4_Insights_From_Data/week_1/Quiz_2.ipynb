{
 "cells": [
  {
   "cell_type": "markdown",
   "id": "2ed953da",
   "metadata": {},
   "source": [
    "# Quiz 2"
   ]
  },
  {
   "cell_type": "code",
   "execution_count": null,
   "id": "e64ed444",
   "metadata": {},
   "outputs": [],
   "source": [
    "import numpy as np \n",
    "import scipy.stats as st\n",
    "import seaborn as sns\n",
    "from statsmodels.stats.proportion import proportion_confint\n",
    "from statsmodels.stats.proportion import samplesize_confint_proportion\n",
    "\n",
    "\n",
    "import matplotlib.pyplot as plt\n",
    "%matplotlib inline"
   ]
  },
  {
   "cell_type": "markdown",
   "id": "535f1d2f",
   "metadata": {},
   "source": [
    "### Question 2\n",
    "\n",
    "Большая часть млекопитающих неспособны во взрослом возрасте переваривать лактозу, содержащуюся в молоке. У людей за расщепление лактозы отвечает фермент лактаза, кодируемый геном LCT. У людей с вариантом 13910T этого гена лактаза продолжает функционировать на протяжении всей жизни. Распределение этого варианта гена сильно варьируется в различных генетических популяциях.\n",
    "\n",
    "Из 50 исследованных представителей народа майя вариант 13910T был обнаружен у одного. Постройте нормальный 95% доверительный интервал для доли носителей варианта 13910T в популяции майя. Чему равна его нижняя граница? Округлите ответ до 4 знаков после десятичной точки."
   ]
  },
  {
   "cell_type": "code",
   "execution_count": 23,
   "id": "9c0ff941",
   "metadata": {},
   "outputs": [
    {
     "data": {
      "text/plain": [
       "array([0., 0., 0., 0., 1., 0., 0., 0., 0., 0., 0., 0., 0., 0., 0., 0., 0.,\n",
       "       0., 0., 0., 0., 0., 0., 0., 0., 0., 0., 0., 0., 0., 0., 0., 0., 0.,\n",
       "       0., 0., 0., 0., 0., 0., 0., 0., 0., 0., 0., 0., 0., 0., 0., 0.])"
      ]
     },
     "execution_count": 23,
     "metadata": {},
     "output_type": "execute_result"
    }
   ],
   "source": [
    "n = 50\n",
    "maya_genes = np.zeros(n)\n",
    "maya_genes[np.random.randint(n)] = 1\n",
    "maya_genes"
   ]
  },
  {
   "cell_type": "code",
   "execution_count": 24,
   "id": "500517be",
   "metadata": {},
   "outputs": [],
   "source": [
    "maya_interval = proportion_confint(sum(maya_genes), nobs=n, method = 'normal')"
   ]
  },
  {
   "cell_type": "code",
   "execution_count": 31,
   "id": "99d7793b",
   "metadata": {},
   "outputs": [
    {
     "name": "stdout",
     "output_type": "stream",
     "text": [
      "interval [0.0000,0.0588]\n",
      "lenght 0.058805\n"
     ]
    }
   ],
   "source": [
    "print(\"interval [%.4f,%.4f]\" %(maya_interval[0],maya_interval[1]))\n",
    "print(\"lenght %f\" % (maya_interval[1] - maya_interval[0]))"
   ]
  },
  {
   "cell_type": "markdown",
   "id": "3d0f1da3",
   "metadata": {},
   "source": [
    "## Question 3\n",
    "\n",
    "В условиях предыдущей задачи постройте 95% доверительный интервал Уилсона для доли носителей варианта 13910T в популяции майя. Чему равна его нижняя граница? Округлите ответ до 4 знаков после десятичной точки.  "
   ]
  },
  {
   "cell_type": "code",
   "execution_count": 32,
   "id": "a7dbfa51",
   "metadata": {},
   "outputs": [
    {
     "name": "stdout",
     "output_type": "stream",
     "text": [
      "wilson interval [0.0035,0.1050]\n"
     ]
    }
   ],
   "source": [
    "wilson_interval = proportion_confint(sum(maya_genes), nobs=n, method = 'wilson')\n",
    "print(\"wilson interval [%.4f,%.4f]\" %(wilson_interval[0],wilson_interval[1]))"
   ]
  },
  {
   "cell_type": "markdown",
   "id": "0c358156",
   "metadata": {},
   "source": [
    "## Question 5\n",
    "Пусть в популяции майя действительно 2% носителей варианта 13910T, как в выборке, которую мы исследовали. Какой объём выборки нужен, чтобы с помощью нормального интервала оценить долю носителей гена 13910T с точностью ±0.01\\pm0.01±0.01 на уровне доверия 95%?"
   ]
  },
  {
   "cell_type": "code",
   "execution_count": 35,
   "id": "0b7b56c6",
   "metadata": {},
   "outputs": [
    {
     "data": {
      "text/plain": [
       "752.9259288560489"
      ]
     },
     "execution_count": 35,
     "metadata": {},
     "output_type": "execute_result"
    }
   ],
   "source": [
    "n_samples = samplesize_confint_proportion(maya_genes.mean(), 0.01)\n",
    "n_samples"
   ]
  },
  {
   "cell_type": "markdown",
   "id": "be96bccb",
   "metadata": {},
   "source": [
    "## Question 6\n",
    "\n",
    "Постройте график зависимости объёма выборки, необходимого для оценки для доли носителей гена 13910T с точностью ±0.01\\pm0.01±0.01 на уровне доверия 95%, от неизвестного параметра ppp. Посмотрите, при каком значении ppp нужно больше всего испытуемых. Как вы думаете, насколько вероятно, что выборка, которую мы анализируем, взята из случайной величины с этим значением параметра?\n",
    "\n",
    "Как бы вы не ответили на последний вопрос, рассмотреть объём выборки, необходимый при таком ppp, всё равно полезно — это даёт максимально пессимистичную оценку необходимого объёма выборки.\n",
    "\n",
    "Какой объём выборки нужен в худшем случае, чтобы с помощью нормального интервала оценить долю носителей гена 13910T с точностью ±0.01\\pm0.01±0.01 на уровне доверия 95%?  "
   ]
  },
  {
   "cell_type": "code",
   "execution_count": null,
   "id": "a62309e1",
   "metadata": {},
   "outputs": [],
   "source": []
  }
 ],
 "metadata": {
  "kernelspec": {
   "display_name": "Python 3",
   "language": "python",
   "name": "python3"
  },
  "language_info": {
   "codemirror_mode": {
    "name": "ipython",
    "version": 3
   },
   "file_extension": ".py",
   "mimetype": "text/x-python",
   "name": "python",
   "nbconvert_exporter": "python",
   "pygments_lexer": "ipython3",
   "version": "3.8.8"
  }
 },
 "nbformat": 4,
 "nbformat_minor": 5
}
