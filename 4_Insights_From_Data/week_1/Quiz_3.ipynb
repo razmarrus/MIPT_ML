{
 "cells": [
  {
   "cell_type": "markdown",
   "id": "d7c40894",
   "metadata": {},
   "source": [
    "# Quiz 3"
   ]
  },
  {
   "cell_type": "code",
   "execution_count": 1,
   "id": "3adb7ac6",
   "metadata": {},
   "outputs": [],
   "source": [
    "import numpy as np \n",
    "import scipy.stats as sts\n",
    "import seaborn as sns\n",
    "from statsmodels.stats.proportion import proportion_confint\n",
    "from statsmodels.stats.proportion import samplesize_confint_proportion\n",
    "from scipy.stats import norm\n",
    "\n",
    "import matplotlib.pyplot as plt\n",
    "%matplotlib inline"
   ]
  },
  {
   "cell_type": "markdown",
   "id": "d37d4aa3",
   "metadata": {},
   "source": [
    "## Question 1\n",
    "\n",
    "Давайте уточним правило трёх сигм. Утверждение: 99.7% вероятностной массы случайной величины X∼N(μ,σ2) лежит в интервале μ±c⋅σ. Чему равно точное значение константы c? Округлите ответ до четырёх знаков после десятичной точки."
   ]
  },
  {
   "cell_type": "code",
   "execution_count": 2,
   "id": "722c0ea0",
   "metadata": {},
   "outputs": [
    {
     "name": "stdout",
     "output_type": "stream",
     "text": [
      "Answer: 2.9677\n"
     ]
    }
   ],
   "source": [
    "from scipy import stats\n",
    "\n",
    "print('Answer: %.4f' % stats.norm.ppf(1-0.003/2))"
   ]
  },
  {
   "cell_type": "code",
   "execution_count": 3,
   "id": "c1cf557a",
   "metadata": {},
   "outputs": [],
   "source": [
    "x = np.linspace(stats.norm.ppf(0.001), stats.norm.ppf(0.999), 100)"
   ]
  },
  {
   "cell_type": "code",
   "execution_count": 4,
   "id": "aa6799c2",
   "metadata": {},
   "outputs": [
    {
     "data": {
      "text/plain": [
       "<matplotlib.lines.Line2D at 0x4add77f0>"
      ]
     },
     "execution_count": 4,
     "metadata": {},
     "output_type": "execute_result"
    },
    {
     "data": {
      "image/png": "[encoded data removed]",
      "text/plain": [
       "<Figure size 432x288 with 1 Axes>"
      ]
     },
     "metadata": {
      "needs_background": "light"
     },
     "output_type": "display_data"
    }
   ],
   "source": [
    "fig, ax = plt.subplots(1, 1)\n",
    "ax.plot(x, norm.pdf(x), 'r-', lw=5, alpha=0.6, label='norm pdf')\n",
    "ax.axvline(x = stats.norm.ppf(0.997), color = 'b', label = 'axvline - full height')"
   ]
  },
  {
   "cell_type": "markdown",
   "id": "6d0e9c9f",
   "metadata": {},
   "source": [
    "## Question 5\n",
    "\n",
    "В пятилетнем рандомизированном исследовании Гарвардской медицинской школы 11037 испытуемых через день принимали аспирин, а ещё 11034 — плацебо. Исследование было слепым, то есть, испытуемые не знали, что именно они принимают.\n",
    "\n",
    "За 5 лет инфаркт случился у 104 испытуемых, принимавших аспирин, и у 189 принимавших плацебо. \n",
    "\n",
    "Оцените, насколько вероятность инфаркта снижается при приёме аспирина. Округлите ответ до четырёх знаков после десятичной точки."
   ]
  },
  {
   "cell_type": "code",
   "execution_count": 5,
   "id": "49058479",
   "metadata": {},
   "outputs": [],
   "source": [
    "n_asp, n_pl = 11037, 11034 #people in group\n",
    "ha_asp, ha_pl = 104,  189  # heart attack"
   ]
  },
  {
   "cell_type": "code",
   "execution_count": 7,
   "id": "74b7ff28",
   "metadata": {},
   "outputs": [],
   "source": [
    "data_asp = np.concatenate((np.ones((ha_asp)), np.zeros((n_asp - ha_asp))), axis=None)\n",
    "data_pl = np.concatenate((np.ones((ha_pl)), np.zeros((n_pl - ha_pl))), axis=None)"
   ]
  },
  {
   "cell_type": "code",
   "execution_count": 33,
   "id": "64964e99",
   "metadata": {},
   "outputs": [
    {
     "name": "stdout",
     "output_type": "stream",
     "text": [
      "probability of heart attack lowers with aspirin by 0.0077 presents\n"
     ]
    }
   ],
   "source": [
    "prop_asp = data_asp.sum() / data_asp.shape[0]\n",
    "prop_pl = data_pl.sum() / data_pl.shape[0]\n",
    "prop_decrease = (prop_pl-prop_asp)\n",
    "print(\"probability of heart attack lowers with aspirin by %.4f presents\" % (prop_decrease ))"
   ]
  },
  {
   "cell_type": "markdown",
   "id": "f808e931",
   "metadata": {},
   "source": [
    "## Question 6\n",
    "\n",
    "Постройте теперь 95% доверительный интервал для снижения вероятности инфаркта при приёме аспирина. Чему равна его верхняя граница? Округлите ответ до четырёх знаков после десятичной точки"
   ]
  },
  {
   "cell_type": "markdown",
   "id": "0f992119",
   "metadata": {},
   "source": [
    "Доверительный интервал для доли \n",
    "$$\\hat{p}\\pm z_{1-\\frac{\\alpha}{2}} \\sqrt{\\frac{\\hat{p}\\left(1-\\hat{p}\\right)}{n}}$$"
   ]
  },
  {
   "cell_type": "markdown",
   "id": "41d9c5ed",
   "metadata": {},
   "source": [
    "Доверительный интервал для двух долей: $p_1 - p_2$\n",
    "$$ \\hat{p}_1 - \\hat{p}_2 \\pm z_{1-\\frac{\\alpha}{2}}\\sqrt{\\frac{\\hat{p}_1(1 - \\hat{p}_1)}{n_1} + \\frac{\\hat{p}_2(1 - \\hat{p}_2)}{n_2}}$$"
   ]
  },
  {
   "cell_type": "code",
   "execution_count": 11,
   "id": "c4bbc9ec",
   "metadata": {},
   "outputs": [],
   "source": [
    "def proportions_confint_diff_ind(sample1, sample2, alpha = 0.05):    \n",
    "    z = stats.norm.ppf(1 - alpha / 2.)   \n",
    "    p1 = float(sum(sample1)) / len(sample1)\n",
    "    p2 = float(sum(sample2)) / len(sample2)\n",
    "    \n",
    "    left_boundary = (p1 - p2) - z * np.sqrt(p1 * (1 - p1)/ len(sample1) + p2 * (1 - p2)/ len(sample2))\n",
    "    right_boundary = (p1 - p2) + z * np.sqrt(p1 * (1 - p1)/ len(sample1) + p2 * (1 - p2)/ len(sample2))\n",
    "    \n",
    "    return (left_boundary, right_boundary)"
   ]
  },
  {
   "cell_type": "code",
   "execution_count": 12,
   "id": "0dd196b4",
   "metadata": {},
   "outputs": [],
   "source": [
    "#print \"confidence interval: [%f, %f]\" % proportions_confint_diff_ind(data.banner_a, data.banner_b)"
   ]
  },
  {
   "cell_type": "code",
   "execution_count": 13,
   "id": "04769d3d",
   "metadata": {},
   "outputs": [
    {
     "data": {
      "text/plain": [
       "(0.004687750675049439, 0.010724297276960124)"
      ]
     },
     "execution_count": 13,
     "metadata": {},
     "output_type": "execute_result"
    }
   ],
   "source": [
    "proportions_confint_diff_ind(data_pl, data_asp, alpha = 0.05)"
   ]
  },
  {
   "cell_type": "code",
   "execution_count": 14,
   "id": "51516066",
   "metadata": {},
   "outputs": [
    {
     "data": {
      "text/plain": [
       "1.6448536269514722"
      ]
     },
     "execution_count": 14,
     "metadata": {},
     "output_type": "execute_result"
    }
   ],
   "source": [
    "stats.norm.ppf(0.95)"
   ]
  },
  {
   "cell_type": "markdown",
   "id": "22416e9c",
   "metadata": {},
   "source": [
    "## Question 7\n",
    "Продолжим анализировать данные эксперимента Гарвардской медицинской школы.\n",
    "\n",
    "Для бернуллиевских случайных величин X∼Ber(p) часто вычисляют величину p1−p, которая называется шансами (odds). Чтобы оценить шансы по выборке, вместо p нужно подставить p^. Например, шансы инфаркта в контрольной группе, принимавшей плацебо, можно оценить как\n",
    "\n",
    "Оцените, во сколько раз понижаются шансы инфаркта при регулярном приёме аспирина. Округлите ответ до четырёх знаков после десятичной точки. "
   ]
  },
  {
   "cell_type": "code",
   "execution_count": 23,
   "id": "85ed0610",
   "metadata": {},
   "outputs": [],
   "source": [
    "def odds(data):\n",
    "    prop = data.sum()/data.shape[0]\n",
    "    return prop/(1-prop)"
   ]
  },
  {
   "cell_type": "code",
   "execution_count": 16,
   "id": "54c852ae",
   "metadata": {},
   "outputs": [
    {
     "name": "stdout",
     "output_type": "stream",
     "text": [
      "1.8321\n"
     ]
    }
   ],
   "source": [
    "odds_asp = odds(data_asp)\n",
    "odds_pl = odds(data_pl)\n",
    "print(\"%.4f\" % (odds_pl/odds_asp))"
   ]
  },
  {
   "cell_type": "code",
   "execution_count": 17,
   "id": "b6abfcb5",
   "metadata": {},
   "outputs": [],
   "source": [
    "#odds = odds_pl/odds_asp\n",
    "#odds"
   ]
  },
  {
   "cell_type": "markdown",
   "id": "f81e21b3",
   "metadata": {},
   "source": [
    "##  Question 8\n",
    "\n",
    "Величина, которую вы оценили в предыдущем вопросе, называется отношением шансов. Постройте для отношения шансов 95% доверительный интервал с помощью бутстрепа. Чему равна его нижняя граница? Округлите ответ до 4 знаков после десятичной точки.\n",
    "\n",
    "Чтобы получить в точности такой же доверительный интервал, как у нас:\n",
    "\n",
    "составьте векторы исходов в контрольной и тестовой выборках так, чтобы в начале шли все единицы, а потом все нули;\n",
    "\n",
    "установите random seed=0;\n",
    "\n",
    "сделайте по 1000 псевдовыборок из каждой группы пациентов с помощью функции get_bootstrap_samples."
   ]
  },
  {
   "cell_type": "code",
   "execution_count": 18,
   "id": "0a88db87",
   "metadata": {},
   "outputs": [],
   "source": [
    "def get_bootstrap_samples(data, n_samples):\n",
    "    indices = np.random.randint(0, len(data), (n_samples, len(data)))\n",
    "    samples = data[indices]\n",
    "    return samples"
   ]
  },
  {
   "cell_type": "code",
   "execution_count": 19,
   "id": "c410614a",
   "metadata": {},
   "outputs": [],
   "source": [
    "def stat_intervals(stat, alpha):\n",
    "    boundaries = np.percentile(stat, [100 * alpha / 2., 100 * (1 - alpha / 2.)])\n",
    "    return boundaries"
   ]
  },
  {
   "cell_type": "code",
   "execution_count": 68,
   "id": "4e57c5e4",
   "metadata": {},
   "outputs": [
    {
     "name": "stdout",
     "output_type": "stream",
     "text": [
      "95% confidence interval for times decrease of infarction: [1.44419465 2.34321168]\n"
     ]
    }
   ],
   "source": [
    "np.random.seed(0)\n",
    "odds_aspirin_data = np.fromiter(map(odds, get_bootstrap_samples(data_asp, 1000)),dtype=np.float)\n",
    "odds_placebo_data = np.fromiter(map(odds, get_bootstrap_samples(data_pl, 1000)),dtype=np.float)\n",
    "\n",
    "odds_ratio = np.divide(np.array(odds_placebo_data), np.array(odds_aspirin_data))\n",
    "print('95%% confidence interval for times decrease of infarction: %s' %\n",
    "      str(stat_intervals(odds_ratio, 0.05)))"
   ]
  },
  {
   "cell_type": "markdown",
   "id": "9ec4bbe3",
   "metadata": {},
   "source": [
    "А еще можно так (неэффективно?)"
   ]
  },
  {
   "cell_type": "code",
   "execution_count": 70,
   "id": "4ea5dd34",
   "metadata": {},
   "outputs": [],
   "source": [
    "np.random.seed(0)\n",
    "bs_asp = get_bootstrap_samples(data_asp, 1000)\n",
    "odds_asp = np.array([odds(sample) for sample in bs])\n",
    "\n",
    "bs_pl = get_bootstrap_samples(data_pl, 1000)\n",
    "odds_pl = np.array([odds(sample) for sample in bs_pl])"
   ]
  },
  {
   "cell_type": "code",
   "execution_count": 71,
   "id": "45a7c13a",
   "metadata": {},
   "outputs": [
    {
     "name": "stdout",
     "output_type": "stream",
     "text": [
      "95% confidence interval for times decrease of infarction: [1.4442 2.3432]\n"
     ]
    }
   ],
   "source": [
    "print('95% confidence interval for times decrease of infarction:',\n",
    "      (np.around(stat_intervals(odds_pl / odds_asp, 0.05),decimals=4)))"
   ]
  }
 ],
 "metadata": {
  "kernelspec": {
   "display_name": "Python 3",
   "language": "python",
   "name": "python3"
  },
  "language_info": {
   "codemirror_mode": {
    "name": "ipython",
    "version": 3
   },
   "file_extension": ".py",
   "mimetype": "text/x-python",
   "name": "python",
   "nbconvert_exporter": "python",
   "pygments_lexer": "ipython3",
   "version": "3.8.8"
  }
 },
 "nbformat": 4,
 "nbformat_minor": 5
}
