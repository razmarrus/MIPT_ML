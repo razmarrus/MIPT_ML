{
 "cells": [
  {
   "cell_type": "markdown",
   "id": "4d996674",
   "metadata": {},
   "source": [
    "# AB Test\n",
    "\n",
    "\n",
    "\n",
    "В данном задании вам нужно будет\n",
    "\n",
    "    проанализировать АБ  тест,  проведенный на реальных пользователях Яндекса\n",
    "\n",
    "    подтвердить или опровергнуть наличие изменений в пользовательском поведении между контрольной (control)  и тестовой (exp)  группами\n",
    "\n",
    "    определить характер этих изменений и практическую значимость вводимого изменения\n",
    "\n",
    "    понять, какая из пользовательских групп более всего проигрывает / выигрывает   от тестируемого изменения (локализовать изменение)"
   ]
  },
  {
   "cell_type": "code",
   "execution_count": 1,
   "id": "c67a1350",
   "metadata": {},
   "outputs": [],
   "source": [
    "import pandas as pd\n",
    "import numpy as np\n",
    "\n",
    "from scipy.stats import pearsonr\n",
    "from statsmodels.sandbox.stats.multicomp import multipletests \n",
    "\n",
    "%matplotlib inline\n",
    "import matplotlib.pyplot as plt\n",
    "import seaborn as sns\n",
    "\n",
    "from scipy import stats"
   ]
  },
  {
   "cell_type": "markdown",
   "id": "473b11dd",
   "metadata": {},
   "source": [
    "\n",
    "\n",
    "Описание  данных:\n",
    "\n",
    "    userID:  уникальный идентификатор пользователя\n",
    "\n",
    "    browser:  браузер, который использовал userID\n",
    "\n",
    "    slot: в каком статусе пользователь участвовал в исследовании (exp = видел измененную страницу, control  = видел неизменную страницу)\n",
    "\n",
    "    n_clicks: количество кликов, которые пользоваль совершил за n_queries\n",
    "\n",
    "    n_queries: количество запросов, который совершил userID, пользуясь браузером browser\n",
    "\n",
    "    n_nonclk_queries: количество запросов пользователя, в которых  им не было совершено ни одного клика\n",
    "\n",
    "Обращаем ваше внимание, что не все люди используют только один браузер, поэтому в столбце userID есть повторяющиеся идентификаторы. В предлагаемых данных  уникальным является сочетание userID и browser."
   ]
  },
  {
   "cell_type": "code",
   "execution_count": 2,
   "id": "3cf0413c",
   "metadata": {},
   "outputs": [
    {
     "data": {
      "text/html": [
       "<div>\n",
       "<style scoped>\n",
       "    .dataframe tbody tr th:only-of-type {\n",
       "        vertical-align: middle;\n",
       "    }\n",
       "\n",
       "    .dataframe tbody tr th {\n",
       "        vertical-align: top;\n",
       "    }\n",
       "\n",
       "    .dataframe thead th {\n",
       "        text-align: right;\n",
       "    }\n",
       "</style>\n",
       "<table border=\"1\" class=\"dataframe\">\n",
       "  <thead>\n",
       "    <tr style=\"text-align: right;\">\n",
       "      <th></th>\n",
       "      <th>userID</th>\n",
       "      <th>browser</th>\n",
       "      <th>slot</th>\n",
       "      <th>n_clicks</th>\n",
       "      <th>n_queries</th>\n",
       "      <th>n_nonclk_queries</th>\n",
       "    </tr>\n",
       "  </thead>\n",
       "  <tbody>\n",
       "    <tr>\n",
       "      <th>0</th>\n",
       "      <td>1</td>\n",
       "      <td>Browser #2</td>\n",
       "      <td>exp</td>\n",
       "      <td>23</td>\n",
       "      <td>32</td>\n",
       "      <td>19</td>\n",
       "    </tr>\n",
       "    <tr>\n",
       "      <th>1</th>\n",
       "      <td>3</td>\n",
       "      <td>Browser #4</td>\n",
       "      <td>exp</td>\n",
       "      <td>3</td>\n",
       "      <td>4</td>\n",
       "      <td>2</td>\n",
       "    </tr>\n",
       "    <tr>\n",
       "      <th>2</th>\n",
       "      <td>5</td>\n",
       "      <td>Browser #4</td>\n",
       "      <td>exp</td>\n",
       "      <td>29</td>\n",
       "      <td>35</td>\n",
       "      <td>16</td>\n",
       "    </tr>\n",
       "    <tr>\n",
       "      <th>3</th>\n",
       "      <td>6</td>\n",
       "      <td>Browser #4</td>\n",
       "      <td>control</td>\n",
       "      <td>12</td>\n",
       "      <td>6</td>\n",
       "      <td>0</td>\n",
       "    </tr>\n",
       "    <tr>\n",
       "      <th>4</th>\n",
       "      <td>7</td>\n",
       "      <td>Browser #4</td>\n",
       "      <td>exp</td>\n",
       "      <td>54</td>\n",
       "      <td>68</td>\n",
       "      <td>30</td>\n",
       "    </tr>\n",
       "    <tr>\n",
       "      <th>...</th>\n",
       "      <td>...</td>\n",
       "      <td>...</td>\n",
       "      <td>...</td>\n",
       "      <td>...</td>\n",
       "      <td>...</td>\n",
       "      <td>...</td>\n",
       "    </tr>\n",
       "    <tr>\n",
       "      <th>566129</th>\n",
       "      <td>603133</td>\n",
       "      <td>Browser #14</td>\n",
       "      <td>control</td>\n",
       "      <td>1</td>\n",
       "      <td>2</td>\n",
       "      <td>1</td>\n",
       "    </tr>\n",
       "    <tr>\n",
       "      <th>566130</th>\n",
       "      <td>603134</td>\n",
       "      <td>Browser #2</td>\n",
       "      <td>exp</td>\n",
       "      <td>4</td>\n",
       "      <td>2</td>\n",
       "      <td>0</td>\n",
       "    </tr>\n",
       "    <tr>\n",
       "      <th>566131</th>\n",
       "      <td>603135</td>\n",
       "      <td>Browser #4</td>\n",
       "      <td>control</td>\n",
       "      <td>0</td>\n",
       "      <td>1</td>\n",
       "      <td>1</td>\n",
       "    </tr>\n",
       "    <tr>\n",
       "      <th>566132</th>\n",
       "      <td>603136</td>\n",
       "      <td>Browser #4</td>\n",
       "      <td>control</td>\n",
       "      <td>2</td>\n",
       "      <td>3</td>\n",
       "      <td>1</td>\n",
       "    </tr>\n",
       "    <tr>\n",
       "      <th>566133</th>\n",
       "      <td>603137</td>\n",
       "      <td>Browser #2</td>\n",
       "      <td>exp</td>\n",
       "      <td>3</td>\n",
       "      <td>1</td>\n",
       "      <td>0</td>\n",
       "    </tr>\n",
       "  </tbody>\n",
       "</table>\n",
       "<p>566134 rows × 6 columns</p>\n",
       "</div>"
      ],
      "text/plain": [
       "        userID      browser     slot  n_clicks  n_queries  n_nonclk_queries\n",
       "0            1   Browser #2      exp        23         32                19\n",
       "1            3   Browser #4      exp         3          4                 2\n",
       "2            5   Browser #4      exp        29         35                16\n",
       "3            6   Browser #4  control        12          6                 0\n",
       "4            7   Browser #4      exp        54         68                30\n",
       "...        ...          ...      ...       ...        ...               ...\n",
       "566129  603133  Browser #14  control         1          2                 1\n",
       "566130  603134   Browser #2      exp         4          2                 0\n",
       "566131  603135   Browser #4  control         0          1                 1\n",
       "566132  603136   Browser #4  control         2          3                 1\n",
       "566133  603137   Browser #2      exp         3          1                 0\n",
       "\n",
       "[566134 rows x 6 columns]"
      ]
     },
     "execution_count": 2,
     "metadata": {},
     "output_type": "execute_result"
    }
   ],
   "source": [
    "df = pd.read_csv('ab_browser_test.csv')\n",
    "df"
   ]
  },
  {
   "cell_type": "markdown",
   "id": "1f311619",
   "metadata": {},
   "source": [
    "## Question 1\n",
    "\n",
    "Посчитайте, насколько в группе exp больше пользовательских кликов по сравнению с группой control в процентах от числа кликов в контрольной группе.\n",
    "\n",
    "Полученный процент округлите  до третьего знака после точки. "
   ]
  },
  {
   "cell_type": "code",
   "execution_count": 3,
   "id": "82489f76",
   "metadata": {},
   "outputs": [
    {
     "data": {
      "text/plain": [
       "(565842, 566134)"
      ]
     },
     "execution_count": 3,
     "metadata": {},
     "output_type": "execute_result"
    }
   ],
   "source": [
    "df.userID.nunique(), len(df)"
   ]
  },
  {
   "cell_type": "code",
   "execution_count": 4,
   "id": "d4cb673b",
   "metadata": {},
   "outputs": [
    {
     "data": {
      "text/plain": [
       "(Browser #4     156833\n",
       " Browser #22    142905\n",
       " Browser #2     110737\n",
       " Browser #14     89123\n",
       " Browser #20     33929\n",
       " Browser #17     32607\n",
       " Name: browser, dtype: int64,\n",
       " control    284554\n",
       " exp        281580\n",
       " Name: slot, dtype: int64)"
      ]
     },
     "execution_count": 4,
     "metadata": {},
     "output_type": "execute_result"
    }
   ],
   "source": [
    "df.browser.value_counts(), df.slot.value_counts()"
   ]
  },
  {
   "cell_type": "code",
   "execution_count": 6,
   "id": "4ec9953d",
   "metadata": {},
   "outputs": [],
   "source": [
    "df['unique_id'] = df.browser.str.extract('(\\d+)')"
   ]
  },
  {
   "cell_type": "code",
   "execution_count": 7,
   "id": "6bb0fc09",
   "metadata": {},
   "outputs": [],
   "source": [
    "df_exp = df[df.slot == 'exp']\n",
    "df_control = df[df.slot == 'control']"
   ]
  },
  {
   "cell_type": "code",
   "execution_count": 8,
   "id": "363ebadb",
   "metadata": {},
   "outputs": [
    {
     "data": {
      "text/plain": [
       "18.2025"
      ]
     },
     "execution_count": 8,
     "metadata": {},
     "output_type": "execute_result"
    }
   ],
   "source": [
    "round((df_exp.n_clicks.sum() - df_control.n_clicks.sum())/ len(df_control)*100, 4)"
   ]
  },
  {
   "cell_type": "code",
   "execution_count": 9,
   "id": "384114e5",
   "metadata": {},
   "outputs": [
    {
     "data": {
      "text/plain": [
       "-1.614"
      ]
     },
     "execution_count": 9,
     "metadata": {},
     "output_type": "execute_result"
    }
   ],
   "source": [
    "round(100-df_exp.n_clicks.sum()/df_control.n_clicks.sum()*100, 3)"
   ]
  },
  {
   "cell_type": "markdown",
   "id": "edc792c3",
   "metadata": {},
   "source": [
    "## Question 2\n",
    "\n",
    "Давайте попробуем посмотреть более внимательно на разницу между двумя группами (control и exp) относительно количества пользовательских кликов.\n",
    "\n",
    "Для этого постройте с помощью бутстрепа 95% доверительный интервал для средних значений и медиан количества кликов в каждой из двух групп. Отметьте все верные утверждения. "
   ]
  },
  {
   "cell_type": "code",
   "execution_count": 10,
   "id": "492eae27",
   "metadata": {},
   "outputs": [],
   "source": [
    "def get_bootstrap_samples(data, n_samples):\n",
    "    indices = np.random.randint(0, len(data), (n_samples, len(data)))\n",
    "    samples = data[indices]\n",
    "    return samples"
   ]
  },
  {
   "cell_type": "code",
   "execution_count": 11,
   "id": "33a29eac",
   "metadata": {},
   "outputs": [],
   "source": [
    "def stat_intervals(stat, alpha):\n",
    "    boundaries = np.percentile(stat, [100 * alpha / 2., 100 * (1 - alpha / 2.)])\n",
    "    return boundaries"
   ]
  },
  {
   "cell_type": "code",
   "execution_count": 14,
   "id": "18f608ea",
   "metadata": {},
   "outputs": [],
   "source": [
    "np.random.seed(42)\n",
    "samples_exp_mean = np.fromiter(map(np.mean, get_bootstrap_samples(df_exp.n_clicks.values, 1000)),dtype=np.float)\n",
    "samples_control_mean = np.fromiter(map(np.mean, get_bootstrap_samples(df_control.n_clicks.values, 1000)),dtype=np.float)"
   ]
  },
  {
   "cell_type": "code",
   "execution_count": 15,
   "id": "54c03ef1",
   "metadata": {},
   "outputs": [],
   "source": [
    "samples_exp_median = np.fromiter(map(np.median, get_bootstrap_samples(df_exp.n_clicks.values, 1000)),dtype=np.float)\n",
    "samples_control_median = np.fromiter(map(np.median, get_bootstrap_samples(df_control.n_clicks.values, 1000)),dtype=np.float)"
   ]
  },
  {
   "cell_type": "code",
   "execution_count": 16,
   "id": "5dcc1edf",
   "metadata": {},
   "outputs": [
    {
     "name": "stdout",
     "output_type": "stream",
     "text": [
      "95% confidence interval for mean diff between exp and  control [-0.40634881 -0.19385771]\n",
      "95% confidence interval for median diff between exp and  control [-1. -1.]\n"
     ]
    }
   ],
   "source": [
    "print('95%% confidence interval for mean diff between exp and  control %s' %\n",
    "      str(stat_intervals(samples_control_mean - samples_exp_mean, 0.05)))\n",
    "\n",
    "print('95%% confidence interval for median diff between exp and  control %s' %\n",
    "      str(stat_intervals(samples_control_median - samples_exp_median, 0.05)))"
   ]
  },
  {
   "cell_type": "markdown",
   "id": "632b11f9",
   "metadata": {},
   "source": [
    "## Question 4\n",
    "\n",
    "Ограничимся сейчас только контрольной группой, в которой распределение кликов будем называть данными  в рамках данного вопроса. \n",
    "\n",
    "     Получите из данных n_boot_samples  псевдовыборок. \n",
    "\n",
    "    По каждой из этих выборок посчитайте среднее и сумму квадратов отклонения от выборочного среднего (control_boot_chi_squared) \n",
    "\n",
    "    Для получившегося вектора средних значений из n_boot_samples постройте q-q plot с помощью scipy.stats.probplot для нормального распределения\n",
    "\n",
    "    Для получившегося вектора  сумм квадратов отклонения от выборочного среднего постройте  qq-plot с помощью scipy.stats.probplot  для хи-квадрат распределения с помощью команды "
   ]
  },
  {
   "cell_type": "code",
   "execution_count": 17,
   "id": "8dd4a2f7",
   "metadata": {},
   "outputs": [],
   "source": [
    "np.random.seed(0)\n",
    "n_boot_samples = 500\n",
    "\n",
    "samples_control_mean = np.fromiter(map(np.mean, get_bootstrap_samples(df_control.n_clicks.values, n_boot_samples)),dtype=np.float)"
   ]
  },
  {
   "cell_type": "code",
   "execution_count": 18,
   "id": "06b504b1",
   "metadata": {},
   "outputs": [
    {
     "data": {
      "image/png": "[encoded data removed]",
      "text/plain": [
       "<Figure size 432x288 with 1 Axes>"
      ]
     },
     "metadata": {
      "needs_background": "light"
     },
     "output_type": "display_data"
    }
   ],
   "source": [
    "#probability plot for means\n",
    "_ = stats.probplot(samples_control_mean, plot=plt, rvalue=True)\n",
    "_ = plt.title('Probability plot for means')"
   ]
  },
  {
   "cell_type": "code",
   "execution_count": 19,
   "id": "b40caca1",
   "metadata": {},
   "outputs": [],
   "source": [
    "#stats.chisquare(samples_control_mean)"
   ]
  },
  {
   "cell_type": "code",
   "execution_count": 20,
   "id": "fbed22b5",
   "metadata": {},
   "outputs": [
    {
     "data": {
      "text/plain": [
       "500"
      ]
     },
     "execution_count": 20,
     "metadata": {},
     "output_type": "execute_result"
    }
   ],
   "source": [
    "samples_control_mean.shape[0]"
   ]
  },
  {
   "cell_type": "code",
   "execution_count": 21,
   "id": "5e6f6c99",
   "metadata": {},
   "outputs": [
    {
     "data": {
      "image/png": "[encoded data removed]",
      "text/plain": [
       "<Figure size 432x288 with 1 Axes>"
      ]
     },
     "metadata": {
      "needs_background": "light"
     },
     "output_type": "display_data"
    }
   ],
   "source": [
    "#probability plot for variances\n",
    "_ = stats.probplot(samples_control_mean, plot=plt, dist='chi2', sparams=(samples_control_mean.shape[0]-1), rvalue=True)\n",
    "_ = plt.title('Probability plot for variances')"
   ]
  },
  {
   "cell_type": "markdown",
   "id": "7474ccae",
   "metadata": {},
   "source": [
    "## Question 5\n",
    "\n",
    "Одним из возможных аналогов t-критерия, которым можно воспрользоваться, является тест Манна-Уитни. На достаточно обширном классе распределений он является асимптотически более эффективным, чем t-критерий, и при этом не требует параметрических предположений о характере распределения.\n",
    "\n",
    "Разделите выборку на две части, соответствующие control  и exp группам. Преобразуйте данные к виду, чтобы каждому пользователю  соответствовало суммарное значение его кликов. С помощью критерия Манна-Уитни проверьте гипотезу о равенстве средних. Что можно сказать о получившемся значении достигаемого уровня значимости ? Выберите все правильные ответы"
   ]
  },
  {
   "cell_type": "markdown",
   "id": "dee55422",
   "metadata": {},
   "source": [
    "Ранговый Критерий Манна-Уитни\n",
    "\n",
    "$H_0\\colon F_{X_1}(x) = F_{X_2}(x)$\n",
    "\n",
    "$H_1\\colon F_{X_1}(x) = F_{X_2}(x + \\Delta), \\Delta\\neq 0$"
   ]
  },
  {
   "cell_type": "code",
   "execution_count": 22,
   "id": "809b9578",
   "metadata": {},
   "outputs": [],
   "source": [
    "control_group = df_control.groupby('userID')['n_clicks'].sum()\n",
    "exp_group = df_exp.groupby('userID')['n_clicks'].sum()"
   ]
  },
  {
   "cell_type": "code",
   "execution_count": 23,
   "id": "b036f3a9",
   "metadata": {},
   "outputs": [
    {
     "data": {
      "text/plain": [
       "MannwhitneyuResult(statistic=38901259929.0, pvalue=4.3471471887604393e-75)"
      ]
     },
     "execution_count": 23,
     "metadata": {},
     "output_type": "execute_result"
    }
   ],
   "source": [
    "stats.mannwhitneyu(control_group, exp_group)"
   ]
  },
  {
   "cell_type": "markdown",
   "id": "864297bd",
   "metadata": {},
   "source": [
    "## Question 6\n",
    "\n",
    "Проверьте, для какого из браузеров наиболее сильно выражено отличие между количеством кликов в контрольной и экспериментальной группах.\n",
    "\n",
    "Для этого примените для каждого из срезов (по каждому из уникальных значений столбца browser) критерий Манна-Уитни между control и exp группами и сделайте поправку Холма-Бонферрони на множественную проверку с α=0.05\\alpha=0.05α=0.05.\n",
    "\n",
    "Какое заключение можно сделать исходя из полученных результатов ?\n",
    "\n",
    "В качестве ответа введите количество незначимых изменений с точки зрения результатов, полученных после введения коррекции."
   ]
  },
  {
   "cell_type": "code",
   "execution_count": 24,
   "id": "df63c73c",
   "metadata": {},
   "outputs": [],
   "source": [
    "exp_browser = df_exp.groupby(['browser', 'userID'])['n_clicks'].sum()\n",
    "control_browser = df_control.groupby(['browser', 'userID'])['n_clicks'].sum()"
   ]
  },
  {
   "cell_type": "code",
   "execution_count": 25,
   "id": "bea196b3",
   "metadata": {},
   "outputs": [
    {
     "name": "stdout",
     "output_type": "stream",
     "text": [
      "Browser #14 0.0\n",
      "Browser #17 0.0748\n",
      "Browser #4 0.8152\n",
      "Browser #22 0.5148\n",
      "Browser #20 0.9073\n",
      "Browser #2 0.0545\n"
     ]
    }
   ],
   "source": [
    "mannwhitneyu_p = []\n",
    "\n",
    "for br in set(exp_browser.index.get_level_values('browser')):\n",
    "\n",
    "    p = stats.mannwhitneyu(control_browser.loc[br, :], exp_browser.loc[br, :], alternative='two-sided')[1]\n",
    "    print(br, round(p,4))\n",
    "    mannwhitneyu_p.append(p)"
   ]
  },
  {
   "cell_type": "code",
   "execution_count": 26,
   "id": "160455af",
   "metadata": {},
   "outputs": [
    {
     "name": "stdout",
     "output_type": "stream",
     "text": [
      "Browser #14 0.0\n",
      "Browser #17 0.2992\n",
      "Browser #4 1.0\n",
      "Browser #22 1.0\n",
      "Browser #20 1.0\n",
      "Browser #2 0.2724\n"
     ]
    }
   ],
   "source": [
    "mannwhitneyu_p_corr = []\n",
    "mannwhitneyu_p_corr = multipletests(mannwhitneyu_p, alpha = 0.05, method = 'holm')[1]\n",
    "for i, br in enumerate(set(exp_browser.index.get_level_values('browser'))):\n",
    "\n",
    "    print(br, round(mannwhitneyu_p_corr[i],4))"
   ]
  },
  {
   "cell_type": "markdown",
   "id": "e3f699b1",
   "metadata": {},
   "source": [
    "## Question 7\n",
    "\n",
    "Для каждого браузера в каждой из двух групп (control  и exp) посчитайте долю запросов, в которых пользователь не кликнул ни разу. Это можно сделать, поделив сумму значений  n_nonclk_queries  на сумму значений  n_queries. Умножив это значение на 100, получим процент некликнутых запросов, который можно легче  проинтерпретировать.\n",
    "\n",
    "Сходятся ли результаты проведенного Вами анализа с показателем процента некликнутых запросов ? Отметьте все верные утверждения. "
   ]
  },
  {
   "cell_type": "code",
   "execution_count": 27,
   "id": "003b7b6f",
   "metadata": {},
   "outputs": [],
   "source": [
    "nonclk_exp_group = df_exp.groupby(['browser', 'userID'])['n_queries'].sum()\n",
    "queries_exp_group = df_exp.groupby(['browser', 'userID'])['n_nonclk_queries'].sum()\n",
    "res_exp_nonclk = queries_exp_group/nonclk_exp_group * 100"
   ]
  },
  {
   "cell_type": "code",
   "execution_count": 28,
   "id": "b1a5ea77",
   "metadata": {},
   "outputs": [],
   "source": [
    "nonclk_control_group = df_control.groupby(['browser', 'userID'])['n_queries'].sum()\n",
    "queries_control_group = df_control.groupby(['browser', 'userID'])['n_nonclk_queries'].sum()\n",
    "res_control_nonclk = queries_control_group/nonclk_control_group * 100"
   ]
  },
  {
   "cell_type": "code",
   "execution_count": 29,
   "id": "20fd1be8",
   "metadata": {},
   "outputs": [
    {
     "name": "stdout",
     "output_type": "stream",
     "text": [
      "Browser #14\n",
      "exp mean:  43.10741773746228\n",
      "control mean:  60.07533271615287\n",
      "\n",
      "Browser #17\n",
      "exp mean:  36.65860468273935\n",
      "control mean:  36.752501806523576\n",
      "\n",
      "Browser #4\n",
      "exp mean:  43.008149012657654\n",
      "control mean:  44.47622567456505\n",
      "\n",
      "Browser #22\n",
      "exp mean:  39.07220335221768\n",
      "control mean:  39.43205942354982\n",
      "\n",
      "Browser #20\n",
      "exp mean:  37.86293386205641\n",
      "control mean:  39.07703311337462\n",
      "\n",
      "Browser #2\n",
      "exp mean:  45.53810364447602\n",
      "control mean:  46.41298410132074\n",
      "\n"
     ]
    }
   ],
   "source": [
    "for br in set(exp_browser.index.get_level_values('browser')):\n",
    "    print(br)\n",
    "    print(\"exp mean: \", res_exp_nonclk.loc[br].mean())\n",
    "    print(\"control mean: \", res_control_nonclk.loc[br].mean())\n",
    "    print(\"\")"
   ]
  }
 ],
 "metadata": {
  "kernelspec": {
   "display_name": "Python 3",
   "language": "python",
   "name": "python3"
  },
  "language_info": {
   "codemirror_mode": {
    "name": "ipython",
    "version": 3
   },
   "file_extension": ".py",
   "mimetype": "text/x-python",
   "name": "python",
   "nbconvert_exporter": "python",
   "pygments_lexer": "ipython3",
   "version": "3.8.8"
  }
 },
 "nbformat": 4,
 "nbformat_minor": 5
}
