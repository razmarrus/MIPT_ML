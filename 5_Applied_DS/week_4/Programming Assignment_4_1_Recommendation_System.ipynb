{
 "cells": [
  {
   "cell_type": "markdown",
   "id": "23504409",
   "metadata": {},
   "source": [
    "# Programming Assignment: \n",
    "\n",
    "\n",
    "1. На обучении постройте частоты появления id в просмотренных и в купленных (id может несколько раз появляться в просмотренных, все появления надо учитывать)\n",
    "2. Реализуйте два алгоритма рекомендаций:\n",
    "\n",
    "    сортировка просмотренных id по популярности (частота появления в просмотренных),\n",
    "    сортировка просмотренных id по покупаемости (частота появления в покупках).\n",
    "\n",
    "3. Для данных алгоритмов выпишите через пробел AverageRecall@1, AveragePrecision@1, AverageRecall@5, AveragePrecision@5 на обучающей и тестовых выборках, округляя до 2 знака после запятой. Это будут ваши ответы в этом задании. Посмотрите, как они соотносятся друг с другом. Где качество получилось выше? Значимо ли это различие?           Обратите внимание на различие качества на обучающей и тестовой           выборке в случае рекомендаций по частотам покупки.\n",
    "\n"
   ]
  },
  {
   "cell_type": "code",
   "execution_count": 1,
   "id": "1e0d1c4b",
   "metadata": {},
   "outputs": [],
   "source": [
    "import numpy as np\n",
    "import pandas as pd\n",
    "from scipy import linalg\n",
    "import matplotlib.pylab as plt\n",
    "\n",
    "import numpy as np\n",
    "\n",
    "from sklearn.feature_extraction.text import CountVectorizer, TfidfVectorizer\n",
    "from sklearn.linear_model import LogisticRegression\n",
    "from sklearn.model_selection import cross_val_score\n",
    "from sklearn.naive_bayes import MultinomialNB\n",
    "from sklearn.pipeline import Pipeline\n",
    "from sklearn.metrics import f1_score\n",
    "\n",
    "%matplotlib inline"
   ]
  },
  {
   "cell_type": "markdown",
   "id": "1b9f7d67",
   "metadata": {},
   "source": [
    "\n",
    "**Входные данные**\n",
    "\n",
    "Вам дается две выборки с пользовательскими сессиями - id-шниками просмотренных и id-шниками купленных товаров. Одна выборка будет использоваться для обучения (оценки популярностей товаров), а другая - для теста.\n",
    "\n",
    "В файлах записаны сессии по одной в каждой строке. Формат сессии: id просмотренных товаров через , затем идёт ; после чего следуют id купленных товаров (если такие имеются), разделённые запятой. Например, 1,2,3,4; или 1,2,3,4;5,6.\n",
    "\n",
    "Гарантируется, что среди id купленных товаров все различные.\n",
    "\n",
    "**Важно:**\n",
    "\n",
    "* Сессии, в которых пользователь ничего не купил, исключаем из оценки качества.\n",
    "* Если товар не встречался в обучающей выборке, его популярность равна 0.  \n",
    "* Рекомендуем разные товары. И их число должно быть не больше, чем количество различных просмотренных пользователем товаров.\n",
    "* Рекомендаций всегда не больше, чем минимум из двух чисел: количество просмотренных пользователем товаров и k в recall@k / precision@k."
   ]
  },
  {
   "cell_type": "code",
   "execution_count": 2,
   "id": "80a8512b",
   "metadata": {},
   "outputs": [
    {
     "data": {
      "text/plain": [
       "['6,7,8;', '13,14,15;', '22,23;', '28,29,30,31,32,33;', '40,41;']"
      ]
     },
     "execution_count": 2,
     "metadata": {},
     "output_type": "execute_result"
    }
   ],
   "source": [
    "f = open(\"test.txt\", \"r\")\n",
    "test = f.read().splitlines() \n",
    "test[:5]"
   ]
  },
  {
   "cell_type": "code",
   "execution_count": 3,
   "id": "bbd8a0e1",
   "metadata": {},
   "outputs": [
    {
     "data": {
      "text/plain": [
       "['0,1,2,3,4,5;',\n",
       " '9,10,11,9,11,12,9,11;',\n",
       " '16,17,18,19,20,21;',\n",
       " '24,25,26,27,24;',\n",
       " '34,35,36,34,37,35,36,37,38,39,38,39;']"
      ]
     },
     "execution_count": 3,
     "metadata": {},
     "output_type": "execute_result"
    }
   ],
   "source": [
    "f = open(\"train.txt\", \"r\")\n",
    "train = f.read().splitlines() \n",
    "train[:5]"
   ]
  },
  {
   "cell_type": "markdown",
   "id": "daa69bcb",
   "metadata": {},
   "source": [
    "# Task №1\n",
    "На обучении постройте частоты появления id в просмотренных и в купленных (id может несколько раз появляться в просмотренных, все появления надо учитывать)\n"
   ]
  },
  {
   "cell_type": "code",
   "execution_count": 4,
   "id": "c992dd3e",
   "metadata": {},
   "outputs": [],
   "source": [
    "def data_preparation(path):\n",
    "    f = open(path, \"r\")\n",
    "    text = f.read().splitlines() \n",
    "    data = []\n",
    "\n",
    "    for line in text:\n",
    "        seen, bought = line.split(';')\n",
    "        if bought != '':\n",
    "            data.append([seen.split(\",\"), bought.split(\",\")])\n",
    "        else: \n",
    "            data.append([seen.split(\",\"), []])\n",
    "    return data"
   ]
  },
  {
   "cell_type": "code",
   "execution_count": 5,
   "id": "37ada799",
   "metadata": {},
   "outputs": [],
   "source": [
    "test = data_preparation(\"test.txt\")\n",
    "train = data_preparation(\"train.txt\")"
   ]
  },
  {
   "cell_type": "code",
   "execution_count": 6,
   "id": "76bfff88",
   "metadata": {},
   "outputs": [],
   "source": [
    "def unique_id(data, n):\n",
    "    id_unique = {}\n",
    "    for i in range(len(data)):\n",
    "        for id_value in (data[:][i])[n]:\n",
    "            if id_value not in id_unique:\n",
    "                id_unique.update({id_value: 0})\n",
    "            else:\n",
    "                id_unique.update({id_value: id_unique.get(id_value)+1})\n",
    "    return id_unique"
   ]
  },
  {
   "cell_type": "code",
   "execution_count": 7,
   "id": "2ecbafdb",
   "metadata": {},
   "outputs": [],
   "source": [
    "id_seen = unique_id(test, 0)\n",
    "id_bought = unique_id(test, 1)"
   ]
  },
  {
   "cell_type": "markdown",
   "id": "d8fe5ca1",
   "metadata": {},
   "source": [
    "# Task №2\n",
    "Реализуйте два алгоритма рекомендаций:\n",
    "\n",
    "* сортировка просмотренных id по популярности (частота появления в просмотренных),\n",
    "* сортировка просмотренных id по покупаемости (частота появления в покупках).\n",
    "\n"
   ]
  },
  {
   "cell_type": "code",
   "execution_count": 8,
   "id": "349c4f32",
   "metadata": {},
   "outputs": [],
   "source": [
    "id_seen_sorted = sorted(id_seen.items(), key=lambda x: x[1], reverse=True)\n",
    "id_bought_sorted = sorted(id_bought.items(), key=lambda x: x[1], reverse=True)"
   ]
  },
  {
   "cell_type": "code",
   "execution_count": 9,
   "id": "09358616",
   "metadata": {},
   "outputs": [
    {
     "data": {
      "text/plain": [
       "'\\nfor i in range(len(train)):\\n    for id_value in (train[:][i])[1]: \\n        if id_value == []:\\n            continue\\n        else:   #что-то купили\\n            print(id_value)\\n'"
      ]
     },
     "execution_count": 9,
     "metadata": {},
     "output_type": "execute_result"
    }
   ],
   "source": [
    "'''\n",
    "for i in range(len(train)):\n",
    "    for id_value in (train[:][i])[1]: \n",
    "        if id_value == []:\n",
    "            continue\n",
    "        else:   #что-то купили\n",
    "            print(id_value)\n",
    "'''"
   ]
  },
  {
   "cell_type": "markdown",
   "id": "9afe6b59",
   "metadata": {},
   "source": [
    "2 Берем строчку, где что-то купили. Смотрим просмотры в ней. Ищем для каждого уникального id в просмотрах соответствие в каком-то словаре из п 1, смотря на просмотрах или покупках мы строим рекомендации. Сортируем по этим значениям. Если одинаковые, ставим первым тот, что первым появился в этой строке в просмотрах. Отбираем k1 первых чисел получившегося массива (k1 = минимум из k и количества уникальных просмотров данной строки), если он длиннее k1. Этот массив - наша рекомендация."
   ]
  },
  {
   "cell_type": "code",
   "execution_count": 10,
   "id": "bca9167d",
   "metadata": {},
   "outputs": [
    {
     "ename": "SyntaxError",
     "evalue": "unexpected EOF while parsing (<ipython-input-10-9cdc2b89b106>, line 13)",
     "output_type": "error",
     "traceback": [
      "\u001b[1;36m  File \u001b[1;32m\"<ipython-input-10-9cdc2b89b106>\"\u001b[1;36m, line \u001b[1;32m13\u001b[0m\n\u001b[1;33m    \u001b[0m\n\u001b[1;37m    ^\u001b[0m\n\u001b[1;31mSyntaxError\u001b[0m\u001b[1;31m:\u001b[0m unexpected EOF while parsing\n"
     ]
    }
   ],
   "source": [
    "recommend_dict = {}\n",
    "\n",
    "for i in range(len(train)):\n",
    "    sess_bought = train[:][i][1]\n",
    "    if sess_bought != []:   #что-то купили\n",
    "        sess_seen = train[:][i][0] #Ищем для каждого уникального id в просмотрах\n",
    "        \n",
    "        sess_seen = set(sess_seen)\n",
    "        for id_value in sess_seen: \n",
    "            if id_value in id_seen.keys():\n",
    "                #print(id_value, id_seen.get(id_value))\n",
    "            #if id_value in sess_seen:\n",
    "                "
   ]
  },
  {
   "cell_type": "markdown",
   "id": "82093721",
   "metadata": {},
   "source": [
    "# Task №3\n",
    "Для данных алгоритмов выпишите через пробел AverageRecall@1, AveragePrecision@1, AverageRecall@5, AveragePrecision@5 на обучающей и тестовых выборках, округляя до 2 знака после запятой. Это будут ваши ответы в этом задании. Посмотрите, как они соотносятся друг с другом. Где качество получилось выше? Значимо ли это различие?           Обратите внимание на различие качества на обучающей и тестовой           выборке в случае рекомендаций по частотам покупки."
   ]
  },
  {
   "cell_type": "code",
   "execution_count": null,
   "id": "bde495f3",
   "metadata": {},
   "outputs": [],
   "source": [
    "def AverageRecall(n, arr):\n",
    "    "
   ]
  },
  {
   "cell_type": "code",
   "execution_count": null,
   "id": "08637d0f",
   "metadata": {},
   "outputs": [],
   "source": []
  },
  {
   "cell_type": "code",
   "execution_count": null,
   "id": "d27da483",
   "metadata": {},
   "outputs": [],
   "source": []
  },
  {
   "cell_type": "code",
   "execution_count": null,
   "id": "1abf8d59",
   "metadata": {},
   "outputs": [],
   "source": []
  },
  {
   "cell_type": "code",
   "execution_count": null,
   "id": "7fa8c507",
   "metadata": {},
   "outputs": [],
   "source": []
  }
 ],
 "metadata": {
  "kernelspec": {
   "display_name": "Python 3",
   "language": "python",
   "name": "python3"
  },
  "language_info": {
   "codemirror_mode": {
    "name": "ipython",
    "version": 3
   },
   "file_extension": ".py",
   "mimetype": "text/x-python",
   "name": "python",
   "nbconvert_exporter": "python",
   "pygments_lexer": "ipython3",
   "version": "3.8.8"
  }
 },
 "nbformat": 4,
 "nbformat_minor": 5
}
